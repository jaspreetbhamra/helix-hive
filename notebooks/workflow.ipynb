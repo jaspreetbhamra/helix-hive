{
 "cells": [
  {
   "cell_type": "code",
   "execution_count": 1,
   "id": "fb8e49a5",
   "metadata": {},
   "outputs": [
    {
     "data": {
      "text/plain": [
       "['ESM2',\n",
       " 'Namespace',\n",
       " 'Path',\n",
       " '__builtins__',\n",
       " '__cached__',\n",
       " '__doc__',\n",
       " '__file__',\n",
       " '__loader__',\n",
       " '__name__',\n",
       " '__package__',\n",
       " '__spec__',\n",
       " '_download_model_and_regression_data',\n",
       " '_has_regression_weights',\n",
       " '_load_model_and_alphabet_core_v1',\n",
       " '_load_model_and_alphabet_core_v2',\n",
       " 'esm',\n",
       " 'esm1_t12_85M_UR50S',\n",
       " 'esm1_t34_670M_UR100',\n",
       " 'esm1_t34_670M_UR50D',\n",
       " 'esm1_t34_670M_UR50S',\n",
       " 'esm1_t6_43M_UR50S',\n",
       " 'esm1b_t33_650M_UR50S',\n",
       " 'esm1v_t33_650M_UR90S',\n",
       " 'esm1v_t33_650M_UR90S_1',\n",
       " 'esm1v_t33_650M_UR90S_2',\n",
       " 'esm1v_t33_650M_UR90S_3',\n",
       " 'esm1v_t33_650M_UR90S_4',\n",
       " 'esm1v_t33_650M_UR90S_5',\n",
       " 'esm2_t12_35M_UR50D',\n",
       " 'esm2_t30_150M_UR50D',\n",
       " 'esm2_t33_650M_UR50D',\n",
       " 'esm2_t36_3B_UR50D',\n",
       " 'esm2_t48_15B_UR50D',\n",
       " 'esm2_t6_8M_UR50D',\n",
       " 'esm_if1_gvp4_t16_142M_UR50',\n",
       " 'esm_msa1_t12_100M_UR50S',\n",
       " 'esm_msa1b_t12_100M_UR50S',\n",
       " 'esmfold_v0',\n",
       " 'esmfold_v1',\n",
       " 'has_emb_layer_norm_before',\n",
       " 'load_hub_workaround',\n",
       " 'load_model_and_alphabet',\n",
       " 'load_model_and_alphabet_core',\n",
       " 'load_model_and_alphabet_hub',\n",
       " 'load_model_and_alphabet_local',\n",
       " 'load_regression_hub',\n",
       " 're',\n",
       " 'torch',\n",
       " 'urllib',\n",
       " 'warnings']"
      ]
     },
     "execution_count": 1,
     "metadata": {},
     "output_type": "execute_result"
    }
   ],
   "source": [
    "from esm import pretrained\n",
    "dir(pretrained)"
   ]
  },
  {
   "cell_type": "code",
   "execution_count": null,
   "id": "c5e4f36b",
   "metadata": {},
   "outputs": [],
   "source": []
  }
 ],
 "metadata": {
  "kernelspec": {
   "display_name": "helix-hive",
   "language": "python",
   "name": "python3"
  },
  "language_info": {
   "codemirror_mode": {
    "name": "ipython",
    "version": 3
   },
   "file_extension": ".py",
   "mimetype": "text/x-python",
   "name": "python",
   "nbconvert_exporter": "python",
   "pygments_lexer": "ipython3",
   "version": "3.12.11"
  }
 },
 "nbformat": 4,
 "nbformat_minor": 5
}
