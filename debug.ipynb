{
 "cells": [
  {
   "cell_type": "code",
   "execution_count": 1,
   "id": "142c4aaf",
   "metadata": {},
   "outputs": [
    {
     "name": "stdout",
     "output_type": "stream",
     "text": [
      "MSA sequences: 6\n",
      "Length of first seq: 130\n"
     ]
    }
   ],
   "source": [
    "from Bio import SeqIO\n",
    "\n",
    "msa = [\n",
    "    str(rec.seq) for rec in SeqIO.parse(\"../data/cache/lysozyme_alignment.fasta\", \"fasta\")\n",
    "]\n",
    "print(\"MSA sequences:\", len(msa))\n",
    "print(\"Length of first seq:\", len(msa[0]))"
   ]
  },
  {
   "cell_type": "code",
   "execution_count": 1,
   "id": "25b67885",
   "metadata": {},
   "outputs": [
    {
     "name": "stdout",
     "output_type": "stream",
     "text": [
      "Counter({'W': 4, 'F': 2})\n",
      "Counter({'G': 4, 'N': 2})\n",
      "Counter({'Y': 4, 'R': 2})\n"
     ]
    }
   ],
   "source": [
    "from Bio import SeqIO\n",
    "from utils.pssm import _column_counts\n",
    "\n",
    "msa = [\n",
    "    str(rec.seq) for rec in SeqIO.parse(\"data/cache/lysozyme_alignment.fasta\", \"fasta\")\n",
    "]\n",
    "\n",
    "print(_column_counts(msa, 33))  # column 34 (0-based)\n",
    "print(_column_counts(msa, 36))  # column 37\n",
    "print(_column_counts(msa, 44))  # column 45"
   ]
  },
  {
   "cell_type": "code",
   "execution_count": 2,
   "id": "1be4148e",
   "metadata": {},
   "outputs": [
    {
     "name": "stdout",
     "output_type": "stream",
     "text": [
      "Entropy range: -0.0 to 1.584962500721156\n",
      "Majority range: 0.3333333333333333 to 1.0\n"
     ]
    }
   ],
   "source": [
    "import math\n",
    "from utils.pssm import _column_counts\n",
    "\n",
    "entropies = []\n",
    "majorities = []\n",
    "\n",
    "for i in range(len(msa[0])):  # 130 positions\n",
    "    counts = _column_counts(msa, i)\n",
    "    total = sum(counts.values())\n",
    "    if total == 0:\n",
    "        continue\n",
    "    freqs = [c / total for c in counts.values()]\n",
    "    ent = -sum(p * math.log2(p) for p in freqs if p > 0)\n",
    "    maj = max(freqs)\n",
    "    entropies.append(ent)\n",
    "    majorities.append(maj)\n",
    "\n",
    "print(\"Entropy range:\", min(entropies), \"to\", max(entropies))\n",
    "print(\"Majority range:\", min(majorities), \"to\", max(majorities))"
   ]
  },
  {
   "cell_type": "code",
   "execution_count": 1,
   "id": "24631fdb",
   "metadata": {},
   "outputs": [
    {
     "name": "stdout",
     "output_type": "stream",
     "text": [
      "[DEBUG] Seq 0: sim_count=6, weight=0.167\n",
      "[DEBUG] Seq 1: sim_count=6, weight=0.167\n",
      "[DEBUG] Seq 2: sim_count=6, weight=0.167\n",
      "[DEBUG] Seq 3: sim_count=6, weight=0.167\n",
      "[DEBUG] Seq 4: sim_count=6, weight=0.167\n",
      "[DEBUG] Seq 5: sim_count=6, weight=0.167\n",
      "[DEBUG] Effective depth (Meff)=1.000\n",
      "[INFO] MSA size (N)=6, Effective depth (Meff)=1.00\n",
      "[INFO] Diversity ratio Meff/N=0.17\n",
      "[DEBUG] Seq 0: sim_count=6, weight=0.167\n",
      "[DEBUG] Seq 1: sim_count=6, weight=0.167\n",
      "[DEBUG] Seq 2: sim_count=6, weight=0.167\n",
      "[DEBUG] Seq 3: sim_count=6, weight=0.167\n",
      "[DEBUG] Seq 4: sim_count=6, weight=0.167\n",
      "[DEBUG] Seq 5: sim_count=6, weight=0.167\n",
      "[DEBUG] Effective depth (Meff)=1.000\n",
      "[INFO] MSA size (N)=6, Effective depth (Meff)=1.00\n",
      "[INFO] Diversity ratio Meff/N=0.17\n",
      "[DEBUG] Seq 0: sim_count=6, weight=0.167\n",
      "[DEBUG] Seq 1: sim_count=6, weight=0.167\n",
      "[DEBUG] Seq 2: sim_count=6, weight=0.167\n",
      "[DEBUG] Seq 3: sim_count=6, weight=0.167\n",
      "[DEBUG] Seq 4: sim_count=6, weight=0.167\n",
      "[DEBUG] Seq 5: sim_count=6, weight=0.167\n",
      "[DEBUG] Effective depth (Meff)=1.000\n",
      "[INFO] MSA size (N)=6, Effective depth (Meff)=1.00\n",
      "[INFO] Diversity ratio Meff/N=0.17\n",
      "[DEBUG] Seq 0: sim_count=6, weight=0.167\n",
      "[DEBUG] Seq 1: sim_count=6, weight=0.167\n",
      "[DEBUG] Seq 2: sim_count=6, weight=0.167\n",
      "[DEBUG] Seq 3: sim_count=6, weight=0.167\n",
      "[DEBUG] Seq 4: sim_count=6, weight=0.167\n",
      "[DEBUG] Seq 5: sim_count=6, weight=0.167\n",
      "[DEBUG] Effective depth (Meff)=1.000\n",
      "[INFO] MSA size (N)=6, Effective depth (Meff)=1.00\n",
      "[INFO] Diversity ratio Meff/N=0.17\n",
      "[DEBUG] Seq 0: sim_count=6, weight=0.167\n",
      "[DEBUG] Seq 1: sim_count=6, weight=0.167\n",
      "[DEBUG] Seq 2: sim_count=6, weight=0.167\n",
      "[DEBUG] Seq 3: sim_count=6, weight=0.167\n",
      "[DEBUG] Seq 4: sim_count=6, weight=0.167\n",
      "[DEBUG] Seq 5: sim_count=6, weight=0.167\n",
      "[DEBUG] Effective depth (Meff)=1.000\n",
      "[INFO] MSA size (N)=6, Effective depth (Meff)=1.00\n",
      "[INFO] Diversity ratio Meff/N=0.17\n",
      "[DEBUG] Seq 0: sim_count=6, weight=0.167\n",
      "[DEBUG] Seq 1: sim_count=6, weight=0.167\n",
      "[DEBUG] Seq 2: sim_count=4, weight=0.250\n",
      "[DEBUG] Seq 3: sim_count=4, weight=0.250\n",
      "[DEBUG] Seq 4: sim_count=4, weight=0.250\n",
      "[DEBUG] Seq 5: sim_count=4, weight=0.250\n",
      "[DEBUG] Effective depth (Meff)=1.333\n",
      "[INFO] MSA size (N)=6, Effective depth (Meff)=1.33\n",
      "[INFO] Diversity ratio Meff/N=0.22\n",
      "[DEBUG] Seq 0: sim_count=4, weight=0.250\n",
      "[DEBUG] Seq 1: sim_count=4, weight=0.250\n",
      "[DEBUG] Seq 2: sim_count=4, weight=0.250\n",
      "[DEBUG] Seq 3: sim_count=4, weight=0.250\n",
      "[DEBUG] Seq 4: sim_count=2, weight=0.500\n",
      "[DEBUG] Seq 5: sim_count=2, weight=0.500\n",
      "[DEBUG] Effective depth (Meff)=2.000\n",
      "[INFO] MSA size (N)=6, Effective depth (Meff)=2.00\n",
      "[INFO] Diversity ratio Meff/N=0.33\n",
      "[DEBUG] Seq 0: sim_count=2, weight=0.500\n",
      "[DEBUG] Seq 1: sim_count=2, weight=0.500\n",
      "[DEBUG] Seq 2: sim_count=2, weight=0.500\n",
      "[DEBUG] Seq 3: sim_count=2, weight=0.500\n",
      "[DEBUG] Seq 4: sim_count=2, weight=0.500\n",
      "[DEBUG] Seq 5: sim_count=2, weight=0.500\n",
      "[DEBUG] Effective depth (Meff)=3.000\n",
      "[INFO] MSA size (N)=6, Effective depth (Meff)=3.00\n",
      "[INFO] Diversity ratio Meff/N=0.50\n",
      "[DEBUG] Seq 0: sim_count=2, weight=0.500\n",
      "[DEBUG] Seq 1: sim_count=2, weight=0.500\n",
      "[DEBUG] Seq 2: sim_count=2, weight=0.500\n",
      "[DEBUG] Seq 3: sim_count=2, weight=0.500\n",
      "[DEBUG] Seq 4: sim_count=2, weight=0.500\n",
      "[DEBUG] Seq 5: sim_count=2, weight=0.500\n",
      "[DEBUG] Effective depth (Meff)=3.000\n",
      "[INFO] MSA size (N)=6, Effective depth (Meff)=3.00\n",
      "[INFO] Diversity ratio Meff/N=0.50\n",
      "[DEBUG] Seq 0: sim_count=2, weight=0.500\n",
      "[DEBUG] Seq 1: sim_count=2, weight=0.500\n",
      "[DEBUG] Seq 2: sim_count=2, weight=0.500\n",
      "[DEBUG] Seq 3: sim_count=2, weight=0.500\n",
      "[DEBUG] Seq 4: sim_count=2, weight=0.500\n",
      "[DEBUG] Seq 5: sim_count=2, weight=0.500\n",
      "[DEBUG] Effective depth (Meff)=3.000\n",
      "[INFO] MSA size (N)=6, Effective depth (Meff)=3.00\n",
      "[INFO] Diversity ratio Meff/N=0.50\n"
     ]
    },
    {
     "data": {
      "image/png": "[encoded data removed]",
      "text/plain": [
       "<Figure size 700x500 with 1 Axes>"
      ]
     },
     "metadata": {},
     "output_type": "display_data"
    }
   ],
   "source": [
    "from utils.pssm_debug import plot_meff_vs_threshold\n",
    "\n",
    "\n",
    "msa_file = \"data/cache/lysozyme_alignment.fasta\"\n",
    "plot_meff_vs_threshold(msa_file)"
   ]
  },
  {
   "cell_type": "code",
   "execution_count": null,
   "id": "adee7689",
   "metadata": {},
   "outputs": [],
   "source": []
  }
 ],
 "metadata": {
  "kernelspec": {
   "display_name": "helix-hive",
   "language": "python",
   "name": "python3"
  },
  "language_info": {
   "codemirror_mode": {
    "name": "ipython",
    "version": 3
   },
   "file_extension": ".py",
   "mimetype": "text/x-python",
   "name": "python",
   "nbconvert_exporter": "python",
   "pygments_lexer": "ipython3",
   "version": "3.12.11"
  }
 },
 "nbformat": 4,
 "nbformat_minor": 5
}
